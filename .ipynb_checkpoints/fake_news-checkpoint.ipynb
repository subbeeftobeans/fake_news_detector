{
 "cells": [
  {
   "cell_type": "markdown",
   "id": "90252eb7-5745-4a00-9a8b-bfb052ce653c",
   "metadata": {},
   "source": [
    "## Fake News Detector"
   ]
  },
  {
   "cell_type": "code",
   "execution_count": null,
   "id": "185e4072-f2e4-4819-ac50-cf2f5a771fe4",
   "metadata": {},
   "outputs": [],
   "source": [
    "import pandas as pd\n",
    "import "
   ]
  },
  {
   "cell_type": "code",
   "execution_count": null,
   "id": "dca985f3-4a58-469f-9301-d28d47330e71",
   "metadata": {},
   "outputs": [],
   "source": [
    "fake = pd.read_csv('Fake.csv')\n",
    "true = pd.read_csv('True.csv')\n",
    "df = "
   ]
  }
 ],
 "metadata": {
  "kernelspec": {
   "display_name": "Python [conda env:base] *",
   "language": "python",
   "name": "conda-base-py"
  },
  "language_info": {
   "codemirror_mode": {
    "name": "ipython",
    "version": 3
   },
   "file_extension": ".py",
   "mimetype": "text/x-python",
   "name": "python",
   "nbconvert_exporter": "python",
   "pygments_lexer": "ipython3",
   "version": "3.12.2"
  }
 },
 "nbformat": 4,
 "nbformat_minor": 5
}
